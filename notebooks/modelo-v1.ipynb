{
 "cells": [
  {
   "cell_type": "code",
   "execution_count": 1,
   "id": "2db97670",
   "metadata": {},
   "outputs": [
    {
     "name": "stderr",
     "output_type": "stream",
     "text": [
      "[nltk_data] Downloading package punkt to\n",
      "[nltk_data]     /Users/jusepulveda/nltk_data...\n",
      "[nltk_data]   Package punkt is already up-to-date!\n"
     ]
    },
    {
     "name": "stdout",
     "output_type": "stream",
     "text": [
      "Dataset sample:\n",
      "                   question  \\\n",
      "0  What is (are) Glaucoma ?   \n",
      "1    What causes Glaucoma ?   \n",
      "\n",
      "                                              answer           source  \\\n",
      "0  Glaucoma is a group of diseases that can damag...  NIHSeniorHealth   \n",
      "1  Nearly 2.7 million people have glaucoma, a lea...  NIHSeniorHealth   \n",
      "\n",
      "  focus_area  \n",
      "0   Glaucoma  \n",
      "1   Glaucoma  \n",
      "Initializing summarization models...\n"
     ]
    },
    {
     "name": "stderr",
     "output_type": "stream",
     "text": [
      "Device set to use mps:0\n"
     ]
    },
    {
     "data": {
      "application/vnd.jupyter.widget-view+json": {
       "model_id": "9a3c8d2560f0418892635a78d1b7c2fa",
       "version_major": 2,
       "version_minor": 0
      },
      "text/plain": [
       "config.json: 0.00B [00:00, ?B/s]"
      ]
     },
     "metadata": {},
     "output_type": "display_data"
    },
    {
     "data": {
      "application/vnd.jupyter.widget-view+json": {
       "model_id": "f7d6d35a44bc4e1bac4f60d6b2764ecd",
       "version_major": 2,
       "version_minor": 0
      },
      "text/plain": [
       "pytorch_model.bin:   0%|          | 0.00/2.28G [00:00<?, ?B/s]"
      ]
     },
     "metadata": {},
     "output_type": "display_data"
    },
    {
     "data": {
      "application/vnd.jupyter.widget-view+json": {
       "model_id": "f2fe184d34ad48febf154cc3bb255045",
       "version_major": 2,
       "version_minor": 0
      },
      "text/plain": [
       "model.safetensors:   0%|          | 0.00/2.28G [00:00<?, ?B/s]"
      ]
     },
     "metadata": {},
     "output_type": "display_data"
    },
    {
     "name": "stderr",
     "output_type": "stream",
     "text": [
      "Some weights of PegasusForConditionalGeneration were not initialized from the model checkpoint at google/pegasus-cnn_dailymail and are newly initialized: ['model.decoder.embed_positions.weight', 'model.encoder.embed_positions.weight']\n",
      "You should probably TRAIN this model on a down-stream task to be able to use it for predictions and inference.\n"
     ]
    },
    {
     "data": {
      "application/vnd.jupyter.widget-view+json": {
       "model_id": "64eefd43e1ce4dda96698912043efe0c",
       "version_major": 2,
       "version_minor": 0
      },
      "text/plain": [
       "generation_config.json:   0%|          | 0.00/280 [00:00<?, ?B/s]"
      ]
     },
     "metadata": {},
     "output_type": "display_data"
    },
    {
     "data": {
      "application/vnd.jupyter.widget-view+json": {
       "model_id": "595e6688283144ba9c85af32ab9fd62c",
       "version_major": 2,
       "version_minor": 0
      },
      "text/plain": [
       "tokenizer_config.json:   0%|          | 0.00/88.0 [00:00<?, ?B/s]"
      ]
     },
     "metadata": {},
     "output_type": "display_data"
    },
    {
     "data": {
      "application/vnd.jupyter.widget-view+json": {
       "model_id": "7483947573b04d148b9dfb39ac953caa",
       "version_major": 2,
       "version_minor": 0
      },
      "text/plain": [
       "spiece.model:   0%|          | 0.00/1.91M [00:00<?, ?B/s]"
      ]
     },
     "metadata": {},
     "output_type": "display_data"
    },
    {
     "data": {
      "application/vnd.jupyter.widget-view+json": {
       "model_id": "c096b509c93848afa123a201e03ed033",
       "version_major": 2,
       "version_minor": 0
      },
      "text/plain": [
       "special_tokens_map.json:   0%|          | 0.00/65.0 [00:00<?, ?B/s]"
      ]
     },
     "metadata": {},
     "output_type": "display_data"
    },
    {
     "name": "stderr",
     "output_type": "stream",
     "text": [
      "Device set to use mps:0\n"
     ]
    },
    {
     "data": {
      "application/vnd.jupyter.widget-view+json": {
       "model_id": "c6ae40d0e0af4003a523e4c2f7087333",
       "version_major": 2,
       "version_minor": 0
      },
      "text/plain": [
       "config.json: 0.00B [00:00, ?B/s]"
      ]
     },
     "metadata": {},
     "output_type": "display_data"
    },
    {
     "data": {
      "application/vnd.jupyter.widget-view+json": {
       "model_id": "a66dd6bcaace435d8c169c2f5e9ed533",
       "version_major": 2,
       "version_minor": 0
      },
      "text/plain": [
       "pytorch_model.bin:   0%|          | 0.00/1.22G [00:00<?, ?B/s]"
      ]
     },
     "metadata": {},
     "output_type": "display_data"
    },
    {
     "data": {
      "application/vnd.jupyter.widget-view+json": {
       "model_id": "bb67821394f243d38fd2edf592339780",
       "version_major": 2,
       "version_minor": 0
      },
      "text/plain": [
       "tokenizer_config.json:   0%|          | 0.00/26.0 [00:00<?, ?B/s]"
      ]
     },
     "metadata": {},
     "output_type": "display_data"
    },
    {
     "data": {
      "application/vnd.jupyter.widget-view+json": {
       "model_id": "77a76d471442452c98503e0a6937fc6b",
       "version_major": 2,
       "version_minor": 0
      },
      "text/plain": [
       "model.safetensors:   0%|          | 0.00/1.22G [00:00<?, ?B/s]"
      ]
     },
     "metadata": {},
     "output_type": "display_data"
    },
    {
     "data": {
      "application/vnd.jupyter.widget-view+json": {
       "model_id": "d773fca9576649e190ab3567041b0ad0",
       "version_major": 2,
       "version_minor": 0
      },
      "text/plain": [
       "vocab.json: 0.00B [00:00, ?B/s]"
      ]
     },
     "metadata": {},
     "output_type": "display_data"
    },
    {
     "data": {
      "application/vnd.jupyter.widget-view+json": {
       "model_id": "b7e4b76aab79435faf1828d924ed0c94",
       "version_major": 2,
       "version_minor": 0
      },
      "text/plain": [
       "merges.txt: 0.00B [00:00, ?B/s]"
      ]
     },
     "metadata": {},
     "output_type": "display_data"
    },
    {
     "name": "stderr",
     "output_type": "stream",
     "text": [
      "Device set to use mps:0\n"
     ]
    },
    {
     "name": "stdout",
     "output_type": "stream",
     "text": [
      "\n",
      "Question: What is (are) Glaucoma ?\n",
      "\n",
      "Original Answer (truncated): Glaucoma is a group of diseases that can damage the eye's optic nerve and result in vision loss and blindness. While glaucoma can strike anyone, the risk is much greater for people over 60. How Glaucoma Develops  There are several different types of glaucoma. Most of these involve the drainage syste...\n",
      "\n",
      "Generating summaries with all models...\n"
     ]
    },
    {
     "name": "stderr",
     "output_type": "stream",
     "text": [
      "Passing a tuple of `past_key_values` is deprecated and will be removed in Transformers v4.58.0. You should pass an instance of `EncoderDecoderCache` instead, e.g. `past_key_values=EncoderDecoderCache.from_legacy_cache(past_key_values)`.\n"
     ]
    },
    {
     "name": "stdout",
     "output_type": "stream",
     "text": [
      "Evaluating summaries...\n",
      "\n",
      "Model Performance Comparison:\n",
      "        Model   ROUGE-1   ROUGE-2   ROUGE-L  Avg_ROUGE\n",
      "0  DistilBART  0.280423  0.271277  0.280423   0.277374\n",
      "1     PEGASUS  0.259947  0.229333  0.254642   0.247974\n",
      "2        BART  0.252011  0.215633  0.252011   0.239885\n",
      "\n",
      "Best performing model: DistilBART\n",
      "\n",
      "BART Summary:\n",
      "Glaucoma is a group of diseases that can damage the eye's optic nerve. Most of these involve the drainage system within the eye. The most common type is called open-angle glaucomA. There is no cure for the disease, but there are treatments that may save vision.\n",
      "\n",
      "PEGASUS Summary:\n",
      "Glaucoma is a group of diseases that can damage the eye's optic nerve .<n>Most types of glaucoma involve the drainage system within the eye .<n>Most common type of glaucoma is called open-angle glaucoma .<n>There is no cure for glaucoma. Vision lost from the disease cannot be restored .\n",
      "\n",
      "DistilBART Summary:\n",
      " Glaucoma is a group of diseases that can damage the eye's optic nerve . Most of these involve the drainage system within the eye . As the fluid builds up, the pressure inside the eye rises . Unless this pressure is controlled, it may cause damage to the optic nerve and result in vision loss .\n"
     ]
    },
    {
     "data": {
      "image/png": "[encoded data removed]",
      "text/plain": [
       "<Figure size 1200x600 with 1 Axes>"
      ]
     },
     "metadata": {},
     "output_type": "display_data"
    }
   ],
   "source": [
    "# Import necessary libraries\n",
    "import pandas as pd\n",
    "import nltk\n",
    "import matplotlib.pyplot as plt\n",
    "import seaborn as sns\n",
    "from transformers import pipeline\n",
    "from rouge_score import rouge_scorer\n",
    "\n",
    "# Download NLTK resources if not already downloaded\n",
    "nltk.download('punkt')\n",
    "\n",
    "# Load dataset\n",
    "path = '../data/medquad.csv'\n",
    "df = pd.read_csv(path)\n",
    "print(\"Dataset sample:\")\n",
    "print(df.head(2))\n",
    "\n",
    "# Initialize all three summarization models\n",
    "print(\"Initializing summarization models...\")\n",
    "bart_pipeline = pipeline(\"summarization\", model=\"facebook/bart-large-cnn\")\n",
    "pegasus_pipeline = pipeline(\"summarization\", model=\"google/pegasus-cnn_dailymail\")\n",
    "distilbart_pipeline = pipeline(\"summarization\", model=\"sshleifer/distilbart-cnn-12-6\")\n",
    "\n",
    "# Function to generate summaries using different models\n",
    "def generate_summary(text, model_pipeline, max_length=150, min_length=50):\n",
    "    result = model_pipeline(text, max_length=max_length, min_length=min_length, do_sample=False)\n",
    "    return result[0]['summary_text']\n",
    "\n",
    "# Function to calculate ROUGE scores for evaluating the summary\n",
    "def evaluate_summary(reference, generated_summary):\n",
    "    scorer = rouge_scorer.RougeScorer([\"rouge1\", \"rouge2\", \"rougeL\"], use_stemmer=True)\n",
    "    scores = scorer.score(reference, generated_summary)\n",
    "    return scores\n",
    "\n",
    "# Get the sample text to summarize\n",
    "index = 0  # Change this to analyze different examples\n",
    "question = df.loc[index, 'question']\n",
    "answer = df.loc[index, 'answer']\n",
    "\n",
    "print(f\"\\nQuestion: {question}\")\n",
    "print(f\"\\nOriginal Answer (truncated): {answer[:300]}...\\n\")\n",
    "\n",
    "# Generate summaries with all three models\n",
    "print(\"Generating summaries with all models...\")\n",
    "bart_summary = generate_summary(answer, bart_pipeline)\n",
    "pegasus_summary = generate_summary(answer, pegasus_pipeline)\n",
    "distilbart_summary = generate_summary(answer, distilbart_pipeline)\n",
    "\n",
    "# Evaluate all three summaries\n",
    "print(\"Evaluating summaries...\")\n",
    "bart_scores = evaluate_summary(answer, bart_summary)\n",
    "pegasus_scores = evaluate_summary(answer, pegasus_summary)\n",
    "distilbart_scores = evaluate_summary(answer, distilbart_summary)\n",
    "\n",
    "# Create a dataframe to compare the metrics\n",
    "models = ['BART', 'PEGASUS', 'DistilBART']\n",
    "rouge1 = [bart_scores['rouge1'].fmeasure, pegasus_scores['rouge1'].fmeasure, distilbart_scores['rouge1'].fmeasure]\n",
    "rouge2 = [bart_scores['rouge2'].fmeasure, pegasus_scores['rouge2'].fmeasure, distilbart_scores['rouge2'].fmeasure]\n",
    "rougeL = [bart_scores['rougeL'].fmeasure, pegasus_scores['rougeL'].fmeasure, distilbart_scores['rougeL'].fmeasure]\n",
    "\n",
    "comparison_df = pd.DataFrame({\n",
    "    'Model': models,\n",
    "    'ROUGE-1': rouge1,\n",
    "    'ROUGE-2': rouge2,\n",
    "    'ROUGE-L': rougeL\n",
    "})\n",
    "\n",
    "# Calculate average ROUGE score for ranking\n",
    "comparison_df['Avg_ROUGE'] = comparison_df[['ROUGE-1', 'ROUGE-2', 'ROUGE-L']].mean(axis=1)\n",
    "comparison_df = comparison_df.sort_values('Avg_ROUGE', ascending=False).reset_index(drop=True)\n",
    "\n",
    "print(\"\\nModel Performance Comparison:\")\n",
    "print(comparison_df)\n",
    "\n",
    "# Select the best model\n",
    "best_model = comparison_df.iloc[0]['Model']\n",
    "print(f\"\\nBest performing model: {best_model}\")\n",
    "\n",
    "# Display summaries from all models\n",
    "print(\"\\nBART Summary:\")\n",
    "print(bart_summary)\n",
    "print(\"\\nPEGASUS Summary:\")\n",
    "print(pegasus_summary)\n",
    "print(\"\\nDistilBART Summary:\")\n",
    "print(distilbart_summary)\n",
    "\n",
    "# Visualize the ROUGE scores\n",
    "plt.figure(figsize=(12, 6))\n",
    "\n",
    "# Create the bar plot\n",
    "comparison_melted = pd.melt(comparison_df, id_vars=['Model'], \n",
    "                          value_vars=['ROUGE-1', 'ROUGE-2', 'ROUGE-L', 'Avg_ROUGE'],\n",
    "                          var_name='Metric', value_name='Score')\n",
    "                          \n",
    "sns.barplot(x='Model', y='Score', hue='Metric', data=comparison_melted)\n",
    "plt.title('ROUGE Score Comparison Across Models')\n",
    "plt.xlabel('Model')\n",
    "plt.ylabel('Score')\n",
    "plt.ylim(0, 1)  # ROUGE scores range from 0 to 1\n",
    "plt.xticks(rotation=0)\n",
    "plt.legend(title='ROUGE Metric')\n",
    "plt.tight_layout()\n",
    "plt.show()"
   ]
  },
  {
   "cell_type": "code",
   "execution_count": 2,
   "id": "3485079f",
   "metadata": {},
   "outputs": [
    {
     "name": "stderr",
     "output_type": "stream",
     "text": [
      "[nltk_data] Downloading package punkt to\n",
      "[nltk_data]     /Users/jusepulveda/nltk_data...\n",
      "[nltk_data]   Package punkt is already up-to-date!\n"
     ]
    },
    {
     "name": "stdout",
     "output_type": "stream",
     "text": [
      "=== 3. IDENTIFICACIÓN DEL CONJUNTO DE DATOS ===\n",
      "Conjunto de datos: MedQuAD\n",
      "Descripción: Dataset médico con preguntas y respuestas\n",
      "Tamaño del dataset: 16412 registros\n",
      "Columnas disponibles: ['question', 'answer', 'source', 'focus_area']\n",
      "\n",
      "Características del dataset:\n",
      "- Promedio de palabras en respuestas: 201\n",
      "- Respuesta más larga: 4281.0 palabras\n",
      "- Respuesta más corta: 1.0 palabras\n",
      "\n",
      "Muestra del dataset:\n",
      "                   question  \\\n",
      "0  What is (are) Glaucoma ?   \n",
      "1    What causes Glaucoma ?   \n",
      "\n",
      "                                              answer           source  \\\n",
      "0  Glaucoma is a group of diseases that can damag...  NIHSeniorHealth   \n",
      "1  Nearly 2.7 million people have glaucoma, a lea...  NIHSeniorHealth   \n",
      "\n",
      "  focus_area  \n",
      "0   Glaucoma  \n",
      "1   Glaucoma  \n",
      "\n",
      "Justificación de selección:\n",
      "- Dominio médico: Textos técnicos que requieren precisión en la sumarización\n",
      "- Estructura Q&A: Permite evaluar si el resumen mantiene la información clave\n",
      "- Variedad de longitudes: Permite probar la capacidad de compresión de los modelos\n"
     ]
    }
   ],
   "source": [
    "# 3. Identificación del conjunto de datos a emplear\n",
    "\n",
    "# Import necessary libraries\n",
    "import pandas as pd\n",
    "import nltk\n",
    "import matplotlib.pyplot as plt\n",
    "import seaborn as sns\n",
    "from transformers import pipeline\n",
    "from rouge_score import rouge_scorer\n",
    "\n",
    "# Download NLTK resources if not already downloaded\n",
    "nltk.download('punkt')\n",
    "\n",
    "# Load and explore the dataset\n",
    "print(\"=== 3. IDENTIFICACIÓN DEL CONJUNTO DE DATOS ===\")\n",
    "path = '../data/medquad.csv'\n",
    "df = pd.read_csv(path)\n",
    "\n",
    "print(f\"Conjunto de datos: MedQuAD\")\n",
    "print(f\"Descripción: Dataset médico con preguntas y respuestas\")\n",
    "print(f\"Tamaño del dataset: {len(df)} registros\")\n",
    "print(f\"Columnas disponibles: {list(df.columns)}\")\n",
    "print(f\"\\nCaracterísticas del dataset:\")\n",
    "print(f\"- Promedio de palabras en respuestas: {df['answer'].str.split().str.len().mean():.0f}\")\n",
    "print(f\"- Respuesta más larga: {df['answer'].str.split().str.len().max()} palabras\")\n",
    "print(f\"- Respuesta más corta: {df['answer'].str.split().str.len().min()} palabras\")\n",
    "\n",
    "print(\"\\nMuestra del dataset:\")\n",
    "print(df.head(2))\n",
    "\n",
    "print(f\"\\nJustificación de selección:\")\n",
    "print(\"- Dominio médico: Textos técnicos que requieren precisión en la sumarización\")\n",
    "print(\"- Estructura Q&A: Permite evaluar si el resumen mantiene la información clave\")\n",
    "print(\"- Variedad de longitudes: Permite probar la capacidad de compresión de los modelos\")"
   ]
  },
  {
   "cell_type": "code",
   "execution_count": 3,
   "id": "e6214982",
   "metadata": {},
   "outputs": [
    {
     "name": "stdout",
     "output_type": "stream",
     "text": [
      "\n",
      "=== 4. IMPLEMENTACIÓN DEL PROTOTIPO ===\n",
      "Inicializando modelos de sumarización...\n",
      "Modelos seleccionados:\n",
      "1. BART-large-CNN: Modelo transformer bidireccional optimizado para sumarización\n",
      "2. PEGASUS-CNN/DailyMail: Modelo pre-entrenado específicamente para sumarización\n",
      "3. DistilBART: Versión destilada de BART, más rápida y eficiente\n"
     ]
    },
    {
     "name": "stderr",
     "output_type": "stream",
     "text": [
      "Device set to use mps:0\n",
      "Some weights of PegasusForConditionalGeneration were not initialized from the model checkpoint at google/pegasus-cnn_dailymail and are newly initialized: ['model.decoder.embed_positions.weight', 'model.encoder.embed_positions.weight']\n",
      "You should probably TRAIN this model on a down-stream task to be able to use it for predictions and inference.\n",
      "Device set to use mps:0\n",
      "Device set to use mps:0\n"
     ]
    },
    {
     "name": "stdout",
     "output_type": "stream",
     "text": [
      "Prototipo implementado exitosamente\n",
      "Funcionalidades:\n",
      "- Carga de datos médicos\n",
      "- Comparación de 3 modelos de sumarización\n",
      "- Evaluación automática con métricas ROUGE\n",
      "- Visualización de resultados\n"
     ]
    }
   ],
   "source": [
    "# 4. Implementación del prototipo de la solución diseñada\n",
    "\n",
    "print(\"\\n=== 4. IMPLEMENTACIÓN DEL PROTOTIPO ===\")\n",
    "\n",
    "# Initialize all three summarization models\n",
    "print(\"Inicializando modelos de sumarización...\")\n",
    "print(\"Modelos seleccionados:\")\n",
    "print(\"1. BART-large-CNN: Modelo transformer bidireccional optimizado para sumarización\")\n",
    "print(\"2. PEGASUS-CNN/DailyMail: Modelo pre-entrenado específicamente para sumarización\")\n",
    "print(\"3. DistilBART: Versión destilada de BART, más rápida y eficiente\")\n",
    "\n",
    "bart_pipeline = pipeline(\"summarization\", model=\"facebook/bart-large-cnn\")\n",
    "pegasus_pipeline = pipeline(\"summarization\", model=\"google/pegasus-cnn_dailymail\")\n",
    "distilbart_pipeline = pipeline(\"summarization\", model=\"sshleifer/distilbart-cnn-12-6\")\n",
    "\n",
    "# Function to generate summaries using different models\n",
    "def generate_summary(text, model_pipeline, max_length=150, min_length=50):\n",
    "    \"\"\"\n",
    "    Genera resumen usando el modelo especificado\n",
    "    \n",
    "    Args:\n",
    "        text: Texto a resumir\n",
    "        model_pipeline: Pipeline del modelo\n",
    "        max_length: Longitud máxima del resumen\n",
    "        min_length: Longitud mínima del resumen\n",
    "    \n",
    "    Returns:\n",
    "        str: Texto resumido\n",
    "    \"\"\"\n",
    "    result = model_pipeline(text, max_length=max_length, min_length=min_length, do_sample=False)\n",
    "    return result[0]['summary_text']\n",
    "\n",
    "print(\"Prototipo implementado exitosamente\")\n",
    "print(\"Funcionalidades:\")\n",
    "print(\"- Carga de datos médicos\")\n",
    "print(\"- Comparación de 3 modelos de sumarización\")\n",
    "print(\"- Evaluación automática con métricas ROUGE\")\n",
    "print(\"- Visualización de resultados\")"
   ]
  },
  {
   "cell_type": "code",
   "execution_count": 4,
   "id": "4c782e38",
   "metadata": {},
   "outputs": [
    {
     "name": "stdout",
     "output_type": "stream",
     "text": [
      "\n",
      "=== 5. DEFINICIÓN DE LA EVALUACIÓN ===\n",
      "a) ASPECTOS A EVALUAR:\n",
      "- Calidad del resumen generado\n",
      "- Preservación de información médica crítica\n",
      "- Coherencia y fluidez del texto\n",
      "- Capacidad de compresión del modelo\n",
      "\n",
      "b) PRUEBAS A REALIZAR:\n",
      "- Comparación entre 3 modelos state-of-the-art\n",
      "- Evaluación en múltiples ejemplos del dataset médico\n",
      "- Análisis de consistencia en diferentes tipos de respuestas\n",
      "\n",
      "c) MÉTRICAS A EVALUAR:\n",
      "- ROUGE-1: Coincidencia de unigramas (palabras individuales)\n",
      "- ROUGE-2: Coincidencia de bigramas (pares de palabras consecutivas)\n",
      "- ROUGE-L: Subsecuencia común más larga\n",
      "- Promedio ROUGE: Métrica combinada para ranking\n",
      "\n",
      "d) JUSTIFICACIÓN DE SELECCIÓN:\n",
      "- ROUGE es el estándar para evaluación de sumarización\n",
      "- Métricas automáticas permiten evaluación escalable\n",
      "- Comparación múltiple modelos asegura selección óptima\n",
      "- Dominio médico requiere alta precisión en información\n",
      "\n",
      "e) LIMITACIONES:\n",
      "- ROUGE solo mide coincidencia léxica, no semántica\n",
      "- No evalúa corrección médica del contenido\n",
      "- Sesgado hacia resumenes similares al texto original\n",
      "- No considera legibilidad para pacientes\n",
      "\n",
      "f) TOMA DE DECISIONES:\n",
      "- Selección del mejor modelo basada en métricas promedio\n",
      "- Identificación de fortalezas/debilidades por modelo\n",
      "- Ajuste de parámetros según resultados\n",
      "- Base para mejoras futuras del sistema\n"
     ]
    }
   ],
   "source": [
    "# 5. Definición de la evaluación de la solución\n",
    "\n",
    "print(\"\\n=== 5. DEFINICIÓN DE LA EVALUACIÓN ===\")\n",
    "\n",
    "# Function to calculate ROUGE scores for evaluating the summary\n",
    "def evaluate_summary(reference, generated_summary):\n",
    "    \"\"\"\n",
    "    Calcula métricas ROUGE para evaluar la calidad del resumen\n",
    "    \n",
    "    Args:\n",
    "        reference: Texto de referencia (original)\n",
    "        generated_summary: Resumen generado\n",
    "    \n",
    "    Returns:\n",
    "        dict: Scores ROUGE-1, ROUGE-2, ROUGE-L\n",
    "    \"\"\"\n",
    "    scorer = rouge_scorer.RougeScorer([\"rouge1\", \"rouge2\", \"rougeL\"], use_stemmer=True)\n",
    "    scores = scorer.score(reference, generated_summary)\n",
    "    return scores\n",
    "\n",
    "print(\"a) ASPECTOS A EVALUAR:\")\n",
    "print(\"- Calidad del resumen generado\")\n",
    "print(\"- Preservación de información médica crítica\")\n",
    "print(\"- Coherencia y fluidez del texto\")\n",
    "print(\"- Capacidad de compresión del modelo\")\n",
    "\n",
    "print(\"\\nb) PRUEBAS A REALIZAR:\")\n",
    "print(\"- Comparación entre 3 modelos state-of-the-art\")\n",
    "print(\"- Evaluación en múltiples ejemplos del dataset médico\")\n",
    "print(\"- Análisis de consistencia en diferentes tipos de respuestas\")\n",
    "\n",
    "print(\"\\nc) MÉTRICAS A EVALUAR:\")\n",
    "print(\"- ROUGE-1: Coincidencia de unigramas (palabras individuales)\")\n",
    "print(\"- ROUGE-2: Coincidencia de bigramas (pares de palabras consecutivas)\")\n",
    "print(\"- ROUGE-L: Subsecuencia común más larga\")\n",
    "print(\"- Promedio ROUGE: Métrica combinada para ranking\")\n",
    "\n",
    "print(\"\\nd) JUSTIFICACIÓN DE SELECCIÓN:\")\n",
    "print(\"- ROUGE es el estándar para evaluación de sumarización\")\n",
    "print(\"- Métricas automáticas permiten evaluación escalable\")\n",
    "print(\"- Comparación múltiple modelos asegura selección óptima\")\n",
    "print(\"- Dominio médico requiere alta precisión en información\")\n",
    "\n",
    "print(\"\\ne) LIMITACIONES:\")\n",
    "print(\"- ROUGE solo mide coincidencia léxica, no semántica\")\n",
    "print(\"- No evalúa corrección médica del contenido\")\n",
    "print(\"- Sesgado hacia resumenes similares al texto original\")\n",
    "print(\"- No considera legibilidad para pacientes\")\n",
    "\n",
    "print(\"\\nf) TOMA DE DECISIONES:\")\n",
    "print(\"- Selección del mejor modelo basada en métricas promedio\")\n",
    "print(\"- Identificación de fortalezas/debilidades por modelo\")\n",
    "print(\"- Ajuste de parámetros según resultados\")\n",
    "print(\"- Base para mejoras futuras del sistema\")"
   ]
  },
  {
   "cell_type": "code",
   "execution_count": 5,
   "id": "a8bd2df8",
   "metadata": {},
   "outputs": [
    {
     "name": "stdout",
     "output_type": "stream",
     "text": [
      "\n",
      "=== 6. EXPLORACIÓN DE RESULTADOS ===\n",
      "CASO DE ESTUDIO:\n",
      "Pregunta: What is (are) Glaucoma ?\n",
      "Respuesta original (muestra): Glaucoma is a group of diseases that can damage the eye's optic nerve and result in vision loss and blindness. While glaucoma can strike anyone, the risk is much greater for people over 60. How Glaucoma Develops  There are several different types of glaucoma. Most of these involve the drainage syste...\n",
      "Longitud completa: 322 palabras\n",
      "\n",
      "Generando resúmenes con todos los modelos...\n",
      "Evaluando resúmenes...\n",
      "\n",
      "RESULTADOS DE COMPARACIÓN:\n",
      "        Model   ROUGE-1   ROUGE-2   ROUGE-L  Avg_ROUGE\n",
      "0  DistilBART  0.280423  0.271277  0.280423   0.277374\n",
      "1     PEGASUS  0.259947  0.229333  0.254642   0.247974\n",
      "2        BART  0.252011  0.215633  0.252011   0.239885\n",
      "\n",
      "Mejor modelo: DistilBART\n",
      "\n",
      "RESÚMENES GENERADOS:\n",
      "\n",
      "BART: Glaucoma is a group of diseases that can damage the eye's optic nerve. Most of these involve the drainage system within the eye. The most common type is called open-angle glaucomA. There is no cure for the disease, but there are treatments that may save vision.\n",
      "\n",
      "PEGASUS: Glaucoma is a group of diseases that can damage the eye's optic nerve .<n>Most types of glaucoma involve the drainage system within the eye .<n>Most common type of glaucoma is called open-angle glaucoma .<n>There is no cure for glaucoma. Vision lost from the disease cannot be restored .\n",
      "\n",
      "DistilBART:  Glaucoma is a group of diseases that can damage the eye's optic nerve . Most of these involve the drainage system within the eye . As the fluid builds up, the pressure inside the eye rises . Unless this pressure is controlled, it may cause damage to the optic nerve and result in vision loss .\n",
      "\n",
      "ANÁLISIS DE RESULTADOS:\n",
      "- Tasa de compresión promedio: 7.0x\n",
      "- Mejor rendimiento: DistilBART\n",
      "- Score más alto: 0.277\n",
      "\n",
      "ALCANCE DE LA SOLUCIÓN:\n",
      "✓ Sumarización automática de textos médicos\n",
      "✓ Comparación objetiva entre modelos\n",
      "✓ Evaluación cuantitativa con métricas estándar\n",
      "✓ Escalable a grandes volúmenes de datos\n",
      "\n",
      "LIMITACIONES IDENTIFICADAS:\n",
      "⚠ Evaluación limitada a un ejemplo\n",
      "⚠ No validación por expertos médicos\n",
      "⚠ Métricas no capturan precisión semántica\n",
      "⚠ Posible pérdida de información crítica\n",
      "⚠ Sesgos del dataset de entrenamiento\n",
      "\n",
      "RECOMENDACIONES:\n",
      "• Ampliar evaluación a múltiples casos\n",
      "• Incluir validación humana especializada\n",
      "• Desarrollar métricas específicas para dominio médico\n",
      "• Implementar post-procesamiento para verificar información crítica\n"
     ]
    }
   ],
   "source": [
    "# 6. Exploración de resultados, alcance y limitaciones\n",
    "\n",
    "print(\"\\n=== 6. EXPLORACIÓN DE RESULTADOS ===\")\n",
    "\n",
    "# Get the sample text to summarize\n",
    "index = 0  # Change this to analyze different examples\n",
    "question = df.loc[index, 'question']\n",
    "answer = df.loc[index, 'answer']\n",
    "\n",
    "print(f\"CASO DE ESTUDIO:\")\n",
    "print(f\"Pregunta: {question}\")\n",
    "print(f\"Respuesta original (muestra): {answer[:300]}...\")\n",
    "print(f\"Longitud completa: {len(answer.split())} palabras\")\n",
    "\n",
    "# Generate summaries with all three models\n",
    "print(\"\\nGenerando resúmenes con todos los modelos...\")\n",
    "bart_summary = generate_summary(answer, bart_pipeline)\n",
    "pegasus_summary = generate_summary(answer, pegasus_pipeline)\n",
    "distilbart_summary = generate_summary(answer, distilbart_pipeline)\n",
    "\n",
    "# Evaluate all three summaries\n",
    "print(\"Evaluando resúmenes...\")\n",
    "bart_scores = evaluate_summary(answer, bart_summary)\n",
    "pegasus_scores = evaluate_summary(answer, pegasus_summary)\n",
    "distilbart_scores = evaluate_summary(answer, distilbart_summary)\n",
    "\n",
    "# Create a dataframe to compare the metrics\n",
    "models = ['BART', 'PEGASUS', 'DistilBART']\n",
    "rouge1 = [bart_scores['rouge1'].fmeasure, pegasus_scores['rouge1'].fmeasure, distilbart_scores['rouge1'].fmeasure]\n",
    "rouge2 = [bart_scores['rouge2'].fmeasure, pegasus_scores['rouge2'].fmeasure, distilbart_scores['rouge2'].fmeasure]\n",
    "rougeL = [bart_scores['rougeL'].fmeasure, pegasus_scores['rougeL'].fmeasure, distilbart_scores['rougeL'].fmeasure]\n",
    "\n",
    "comparison_df = pd.DataFrame({\n",
    "    'Model': models,\n",
    "    'ROUGE-1': rouge1,\n",
    "    'ROUGE-2': rouge2,\n",
    "    'ROUGE-L': rougeL\n",
    "})\n",
    "\n",
    "# Calculate average ROUGE score for ranking\n",
    "comparison_df['Avg_ROUGE'] = comparison_df[['ROUGE-1', 'ROUGE-2', 'ROUGE-L']].mean(axis=1)\n",
    "comparison_df = comparison_df.sort_values('Avg_ROUGE', ascending=False).reset_index(drop=True)\n",
    "\n",
    "print(\"\\nRESULTADOS DE COMPARACIÓN:\")\n",
    "print(comparison_df)\n",
    "\n",
    "# Select the best model\n",
    "best_model = comparison_df.iloc[0]['Model']\n",
    "print(f\"\\nMejor modelo: {best_model}\")\n",
    "\n",
    "# Display summaries from all models\n",
    "print(f\"\\nRESÚMENES GENERADOS:\")\n",
    "print(f\"\\nBART: {bart_summary}\")\n",
    "print(f\"\\nPEGASUS: {pegasus_summary}\")\n",
    "print(f\"\\nDistilBART: {distilbart_summary}\")\n",
    "\n",
    "# Analyze results\n",
    "print(f\"\\nANÁLISIS DE RESULTADOS:\")\n",
    "print(f\"- Tasa de compresión promedio: {(len(answer.split()) / len(bart_summary.split())):.1f}x\")\n",
    "print(f\"- Mejor rendimiento: {best_model}\")\n",
    "print(f\"- Score más alto: {comparison_df.iloc[0]['Avg_ROUGE']:.3f}\")\n",
    "\n",
    "print(f\"\\nALCANCE DE LA SOLUCIÓN:\")\n",
    "print(\"✓ Sumarización automática de textos médicos\")\n",
    "print(\"✓ Comparación objetiva entre modelos\")\n",
    "print(\"✓ Evaluación cuantitativa con métricas estándar\")\n",
    "print(\"✓ Escalable a grandes volúmenes de datos\")\n",
    "\n",
    "print(f\"\\nLIMITACIONES IDENTIFICADAS:\")\n",
    "print(\"⚠ Evaluación limitada a un ejemplo\")\n",
    "print(\"⚠ No validación por expertos médicos\")\n",
    "print(\"⚠ Métricas no capturan precisión semántica\")\n",
    "print(\"⚠ Posible pérdida de información crítica\")\n",
    "print(\"⚠ Sesgos del dataset de entrenamiento\")\n",
    "\n",
    "print(f\"\\nRECOMENDACIONES:\")\n",
    "print(\"• Ampliar evaluación a múltiples casos\")\n",
    "print(\"• Incluir validación humana especializada\")\n",
    "print(\"• Desarrollar métricas específicas para dominio médico\")\n",
    "print(\"• Implementar post-procesamiento para verificar información crítica\")"
   ]
  },
  {
   "cell_type": "code",
   "execution_count": 6,
   "id": "da95817d",
   "metadata": {},
   "outputs": [
    {
     "name": "stdout",
     "output_type": "stream",
     "text": [
      "\n",
      "=== VISUALIZACIÓN DE RESULTADOS ===\n"
     ]
    },
    {
     "data": {
      "image/png": "[encoded data removed]",
      "text/plain": [
       "<Figure size 1200x600 with 1 Axes>"
      ]
     },
     "metadata": {},
     "output_type": "display_data"
    },
    {
     "name": "stdout",
     "output_type": "stream",
     "text": [
      "Gráfico generado: Comparación visual de rendimiento de modelos\n",
      "Interpretación: Barras más altas indican mejor rendimiento en esa métrica\n"
     ]
    }
   ],
   "source": [
    "# Visualization of results\n",
    "print(\"\\n=== VISUALIZACIÓN DE RESULTADOS ===\")\n",
    "\n",
    "# Visualize the ROUGE scores\n",
    "plt.figure(figsize=(12, 6))\n",
    "\n",
    "# Create the bar plot\n",
    "comparison_melted = pd.melt(comparison_df, id_vars=['Model'], \n",
    "                          value_vars=['ROUGE-1', 'ROUGE-2', 'ROUGE-L', 'Avg_ROUGE'],\n",
    "                          var_name='Metric', value_name='Score')\n",
    "                          \n",
    "sns.barplot(x='Model', y='Score', hue='Metric', data=comparison_melted)\n",
    "plt.title('Comparación de Métricas ROUGE entre Modelos de Sumarización')\n",
    "plt.xlabel('Modelo')\n",
    "plt.ylabel('Puntuación ROUGE')\n",
    "plt.ylim(0, 1)  # ROUGE scores range from 0 to 1\n",
    "plt.xticks(rotation=0)\n",
    "plt.legend(title='Métrica ROUGE')\n",
    "plt.tight_layout()\n",
    "plt.show()\n",
    "\n",
    "print(\"Gráfico generado: Comparación visual de rendimiento de modelos\")\n",
    "print(\"Interpretación: Barras más altas indican mejor rendimiento en esa métrica\")"
   ]
  },
  {
   "cell_type": "code",
   "execution_count": null,
   "id": "2c66d204",
   "metadata": {},
   "outputs": [],
   "source": []
  }
 ],
 "metadata": {
  "kernelspec": {
   "display_name": ".venv",
   "language": "python",
   "name": "python3"
  },
  "language_info": {
   "codemirror_mode": {
    "name": "ipython",
    "version": 3
   },
   "file_extension": ".py",
   "mimetype": "text/x-python",
   "name": "python",
   "nbconvert_exporter": "python",
   "pygments_lexer": "ipython3",
   "version": "3.12.3"
  }
 },
 "nbformat": 4,
 "nbformat_minor": 5
}
