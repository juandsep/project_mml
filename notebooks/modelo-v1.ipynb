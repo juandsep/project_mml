{
 "cells": [
  {
   "cell_type": "code",
   "execution_count": 1,
   "id": "91be0c32",
   "metadata": {},
   "outputs": [
    {
     "name": "stderr",
     "output_type": "stream",
     "text": [
      "[nltk_data] Downloading package punkt to\n",
      "[nltk_data]     /Users/jusepulveda/nltk_data...\n",
      "[nltk_data]   Package punkt is already up-to-date!\n"
     ]
    }
   ],
   "source": [
    "import pandas as pd\n",
    "import nltk\n",
    "nltk.download('punkt')\n",
    "from transformers import pipeline\n",
    "from rouge_score import rouge_scorer"
   ]
  },
  {
   "cell_type": "code",
   "execution_count": null,
   "id": "68b25dd4",
   "metadata": {},
   "outputs": [],
   "source": [
    "# Function to generate a summary using BART\n",
    "def extractive_summary(question, answer):\n",
    "    # Instead of scoring sentences, use BART to summarize the entire answer\n",
    "    result = summarization_pipeline(answer, max_length=150, min_length=50, do_sample=False)\n",
    "    summary = result[0]['summary_text']  # Extract the summarized text\n",
    "    return summary\n",
    "\n",
    "# Function to calculate ROUGE scores for evaluating the summary\n",
    "def evaluate_summary(reference, generated_summary):\n",
    "    scorer = rouge_scorer.RougeScorer([\"rouge1\", \"rouge2\", \"rougeL\"], use_stemmer=True)\n",
    "    scores = scorer.score(reference, generated_summary)\n",
    "    return scores"
   ]
  },
  {
   "cell_type": "code",
   "execution_count": null,
   "id": "d5fc6481",
   "metadata": {},
   "outputs": [],
   "source": [
    "path = '../data/medquad.csv'\n",
    "df=pd.read_csv(path)\n",
    "print(df.head(2))"
   ]
  },
  {
   "cell_type": "code",
   "execution_count": null,
   "id": "c8987787",
   "metadata": {},
   "outputs": [],
   "source": [
    "# Initialize BART-based summarization pipeline\n",
    "summarization_pipeline = pipeline(\"summarization\", model=\"facebook/bart-large-cnn\")"
   ]
  },
  {
   "cell_type": "code",
   "execution_count": null,
   "id": "3208d1a2",
   "metadata": {},
   "outputs": [],
   "source": [
    "index = 0  # Change this to the row number you want\n",
    "question = df.loc[index, 'question']\n",
    "answer = df.loc[index, 'answer']\n",
    "\n",
    "# Apply extractive summarization to the single entry\n",
    "summary = extractive_summary(question, answer)\n",
    "\n",
    "# Display the results\n",
    "print(f\"Question: {question}\")\n",
    "print(f\"Original Answer: {answer}\")\n",
    "print(f\"Summary: {summary}\")\n",
    "\n",
    "# Evaluate the summary using ROUGE scores\n",
    "rouge_scores = evaluate_summary(answer, summary)  # Comparing to the original answer\n",
    "print(f\"ROUGE Scores: {rouge_scores}\")"
   ]
  },
  {
   "cell_type": "code",
   "execution_count": null,
   "id": "3485079f",
   "metadata": {},
   "outputs": [],
   "source": []
  }
 ],
 "metadata": {
  "kernelspec": {
   "display_name": ".venv",
   "language": "python",
   "name": "python3"
  },
  "language_info": {
   "codemirror_mode": {
    "name": "ipython",
    "version": 3
   },
   "file_extension": ".py",
   "mimetype": "text/x-python",
   "name": "python",
   "nbconvert_exporter": "python",
   "pygments_lexer": "ipython3",
   "version": "3.10.14"
  }
 },
 "nbformat": 4,
 "nbformat_minor": 5
}
